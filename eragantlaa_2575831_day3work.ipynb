{
 "cells": [
  {
   "cell_type": "code",
   "execution_count": 21,
   "id": "3c8c62e3",
   "metadata": {},
   "outputs": [
    {
     "name": "stdout",
     "output_type": "stream",
     "text": [
      "File 'C:\\Users\\phani\\Desktop\\source.txt' copied to 'C:\\Users\\phani\\Desktop\\destination.txt' with a chunk size of 50 characters.\n"
     ]
    }
   ],
   "source": [
    "#1.Python function that copies a file reading and writing upto 50 characters at a time \n",
    "def copy_file_with_limit(input_file_path, output_file_path, chunk_size=50):\n",
    "    try:\n",
    "        with open(input_file_path, 'rb') as input_file, open(output_file_path, 'wb') as output_file:\n",
    "            while True:\n",
    "                chunk = input_file.read(chunk_size)\n",
    "                if not chunk:\n",
    "                    break\n",
    "                output_file.write(chunk)\n",
    "        print(f\"File '{input_file_path}' copied to '{output_file_path}' with a chunk size of {chunk_size} characters.\")\n",
    "    except Exception as e:\n",
    "        print(f\"An error occurred: {str(e)}\")\n",
    "\n",
    "# Example usage:\n",
    "input_file_path =r'C:\\Users\\phani\\Desktop\\source.txt'\n",
    "output_file_path =r'C:\\Users\\phani\\Desktop\\destination.txt'\n",
    "copy_file_with_limit(input_file_path, output_file_path, chunk_size=50)"
   ]
  },
  {
   "cell_type": "code",
   "execution_count": 26,
   "id": "e653ce13",
   "metadata": {},
   "outputs": [
    {
     "name": "stdout",
     "output_type": "stream",
     "text": [
      "Total blank space found :  17\n",
      "The sum is: 0\n"
     ]
    }
   ],
   "source": [
    "#2.print the blank spaces present in the file \n",
    "file_path = r'C:\\\\Users\\\\phani\\\\Desktop\\\\source.txt'\n",
    "space_count = 0\n",
    "with open(file_path, 'r') as f:\n",
    "    for line in f:\n",
    "        split_words = line.split()\n",
    "        for word in split_words:\n",
    "            for char in word:\n",
    "                if(char.isspace):\n",
    "                    space_count = space_count + 1\n",
    "print(\"Total blank space found : \", space_count)\n",
    "h = open(r'C:\\Users\\phani\\Desktop\\source.txt','r')\n",
    "content = h.readlines()\n",
    "a = 0\n",
    "for line in content:\n",
    "     \n",
    "    for i in line:\n",
    "        if i.isdigit() == True:\n",
    "             \n",
    "            a += int(i)\n",
    " \n",
    "print(\"The sum is:\", a)"
   ]
  },
  {
   "cell_type": "code",
   "execution_count": 40,
   "id": "b089c59e",
   "metadata": {},
   "outputs": [
    {
     "name": "stdout",
     "output_type": "stream",
     "text": [
      "C:\\Users\\phani\n"
     ]
    }
   ],
   "source": [
    "#3.sed take arguments a pattern string,a replace string ,and two functions;write the contents into sum \n",
    "import os\n",
    "def sed(pattern, replacement, fin, fout):\n",
    "    finMem = open(fin)\n",
    "    foutMem = open(fout, 'w+')\n",
    "    for line in finMem:\n",
    "        if pattern in line:\n",
    "            print ('pattern found')\n",
    "            newLine = line.replace(pattern,replacement)\n",
    "            foutMem.write(newLine)\n",
    "        else:\n",
    "            foutMem.write(line)\n",
    "if __name__ == '__main__':\n",
    "    print (os.getcwd())\n",
    "    pattern = 'oy'\n",
    "    replacement = 'it'\n",
    "    fin = r'C:\\Users\\phani\\Desktop\\source.txt'\n",
    "    fout = r'C:\\Users\\phani\\Desktop\\destination.txt'\n",
    "    sed(pattern, replacement, fin, fout)"
   ]
  },
  {
   "cell_type": "code",
   "execution_count": 1,
   "id": "245fa870",
   "metadata": {},
   "outputs": [
    {
     "name": "stdout",
     "output_type": "stream",
     "text": [
      "Enter the name of an input text file (or 'done' to finish): \"C:\\Users\\phani\\Desktop\\source.txt\"\n",
      "Enter the name of an input text file (or 'done' to finish): \"C:\\Users\\phani\\Desktop\\destination.txt\"\n",
      "Enter the name of an input text file (or 'done' to finish): done\n",
      "Enter the name of the output text file: \"C:\\Users\\phani\\Desktop\\output.txt\"\n",
      "An error occurred: [Errno 22] Invalid argument: '\"C:\\\\Users\\\\phani\\\\Desktop\\\\output.txt\"'\n"
     ]
    }
   ],
   "source": [
    "#6.\n",
    "def concatenate_files(input_files, output_file):\n",
    "    try:\n",
    "        with open(output_file, 'w') as output:\n",
    "            for input_file in input_files:\n",
    "                with open(input_file, 'r') as input:\n",
    "                    output.write(input.read())\n",
    "        print(f\"Concatenated {len(input_files)} files into {output_file}\")\n",
    "    except Exception as e:\n",
    "        print(f\"An error occurred: {str(e)}\")\n",
    "input_files = []\n",
    "while True:\n",
    "    file_name = input(\"Enter the name of an input text file (or 'done' to finish): \")\n",
    "    if file_name.lower() == 'done':\n",
    "        break\n",
    "    input_files.append(file_name)\n",
    "output_file = input(\"Enter the name of the output text file: \")\n",
    "concatenate_files(input_files, output_file)\n",
    "\n"
   ]
  },
  {
   "cell_type": "code",
   "execution_count": 8,
   "id": "403522b8",
   "metadata": {},
   "outputs": [
    {
     "name": "stdout",
     "output_type": "stream",
     "text": [
      "Text replaced\n"
     ]
    }
   ],
   "source": [
    "#5.a TEXT FILE SEACRH AND REPLACE \n",
    "#A.SEARCH AND REPLACE IN TEXT FILE \n",
    "search_text = \"source\"\n",
    "replace_text = \"something\"\n",
    "with open(r'C:\\Users\\phani\\Desktop\\source.txt', 'r') as file:\n",
    "    data = file.read()\n",
    "    data = data.replace(search_text, replace_text)\n",
    "with open(r'C:\\Users\\phani\\Desktop\\destination.txt', 'w') as file:\n",
    "    file.write(data)\n",
    "print(\"Text replaced\")"
   ]
  },
  {
   "cell_type": "code",
   "execution_count": 9,
   "id": "0d7fc52e",
   "metadata": {},
   "outputs": [
    {
     "name": "stdout",
     "output_type": "stream",
     "text": [
      "The original string is : abbabba\n",
      "The string after replacement of positions : baabaab\n"
     ]
    }
   ],
   "source": [
    "#5.B HANDLE CASES WHERE YOU NEED TO PERFORM MULTIPLE REPLACEMENTS \n",
    "# initializing string\n",
    "test_str = \"abbabba\"\n",
    " # printing original string\n",
    "print(\"The original string is : \" + str(test_str))\n",
    "res = test_str.replace('a', '%temp%').replace('b', 'a').replace('%temp%', 'b')\n",
    " # printing result\n",
    "print(\"The string after replacement of positions : \" + res)"
   ]
  },
  {
   "cell_type": "code",
   "execution_count": 10,
   "id": "44e9350f",
   "metadata": {},
   "outputs": [
    {
     "name": "stdout",
     "output_type": "stream",
     "text": [
      "Word-length dictionary has been written to C:\\Users\\phani\\Desktop\\output.txt\n"
     ]
    }
   ],
   "source": [
    "#7 \n",
    "input_file_name = r\"C:\\Users\\phani\\Desktop\\input.txt\"\n",
    "output_file_name = r\"C:\\Users\\phani\\Desktop\\output.txt\"\n",
    "\n",
    "try:\n",
    "    with open(input_file_name, \"r\") as input_file:\n",
    "        lines = input_file.readlines()\n",
    "    word_length_dict = {}\n",
    "\n",
    "    for line in lines:\n",
    "        word = line.strip()\n",
    "        word_length_dict[word] = len(word)\n",
    "\n",
    "    with open(output_file_name, \"w\") as output_file:\n",
    "        for word, length in word_length_dict.items():\n",
    "            output_file.write(f\"{word}: {length}\\n\")\n",
    "\n",
    "    print(\"Word-length dictionary has been written to\", output_file_name)\n",
    "\n",
    "except FileNotFoundError:\n",
    "    print(f\"The file '{input_file_name}' was not found.\")\n",
    "except Exception as e:\n",
    "    print(\"An error occurred:\", str(e))\n"
   ]
  },
  {
   "cell_type": "code",
   "execution_count": 12,
   "id": "6c1d96b4",
   "metadata": {},
   "outputs": [
    {
     "name": "stdout",
     "output_type": "stream",
     "text": [
      "\n",
      "Welcome to the Student Gradebook System!\n",
      "1. Input Grades\n",
      "2. View Grades\n",
      "3. Exit\n",
      "Enter your choice (1/2/3): 1\n",
      "Enter the subject name: MATHS\n",
      "Enter student name (or 'done' to finish): PHANEENDRA\n",
      "Enter PHANEENDRA's grade for MATHS: A\n",
      "Invalid grade input. Please enter a valid numeric grade.\n",
      "\n",
      "Welcome to the Student Gradebook System!\n",
      "1. Input Grades\n",
      "2. View Grades\n",
      "3. Exit\n",
      "Enter your choice (1/2/3): 1\n",
      "Enter the subject name: MATHS\n",
      "Enter student name (or 'done' to finish): PHANEENDRA\n",
      "Enter PHANEENDRA's grade for MATHS: 9\n",
      "Enter student name (or 'done' to finish): PHANEENDRA\n",
      "Enter PHANEENDRA's grade for MATHS: 9\n",
      "Enter student name (or 'done' to finish): DONE\n",
      "Grades for MATHS have been saved.\n",
      "\n",
      "Welcome to the Student Gradebook System!\n",
      "1. Input Grades\n",
      "2. View Grades\n",
      "3. Exit\n",
      "Enter your choice (1/2/3): 2\n",
      "Enter the subject name: PHYSICS\n",
      "Grades for PHYSICS not found.\n",
      "\n",
      "Welcome to the Student Gradebook System!\n",
      "1. Input Grades\n",
      "2. View Grades\n",
      "3. Exit\n",
      "Enter your choice (1/2/3): 3\n",
      "Exiting the program. Goodbye!\n"
     ]
    }
   ],
   "source": [
    "#8.GRADING SYSTEM\n",
    "import os\n",
    "\n",
    "def input_grades(subject):\n",
    "    try:\n",
    "        student_grades = {}\n",
    "        while True:\n",
    "            student_name = input(\"Enter student name (or 'done' to finish): \")\n",
    "            if student_name.lower() == 'done':\n",
    "                break\n",
    "            grade = float(input(f\"Enter {student_name}'s grade for {subject}: \"))\n",
    "            student_grades[student_name] = grade\n",
    "        \n",
    "        with open(f'{subject}.txt', 'w') as file:\n",
    "            for student, grade in student_grades.items():\n",
    "                file.write(f\"{student}: {grade}\\n\")\n",
    "        print(f\"Grades for {subject} have been saved.\")\n",
    "    except ValueError:\n",
    "        print(\"Invalid grade input. Please enter a valid numeric grade.\")\n",
    "    except Exception as e:\n",
    "        print(f\"An error occurred: {str(e)}\")\n",
    "\n",
    "def view_grades(subject):\n",
    "    try:\n",
    "        with open(f'{subject}.txt', 'r') as file:\n",
    "            print(f\"Grades for {subject}:\")\n",
    "            print(file.read())\n",
    "    except FileNotFoundError:\n",
    "        print(f\"Grades for {subject} not found.\")\n",
    "    except Exception as e:\n",
    "        print(f\"An error occurred: {str(e)}\")\n",
    "\n",
    "def main():\n",
    "    while True:\n",
    "        print(\"\\nWelcome to the Student Gradebook System!\")\n",
    "        print(\"1. Input Grades\")\n",
    "        print(\"2. View Grades\")\n",
    "        print(\"3. Exit\")\n",
    "        \n",
    "        choice = input(\"Enter your choice (1/2/3): \")\n",
    "        \n",
    "        if choice == '1':\n",
    "            subject = input(\"Enter the subject name: \")\n",
    "            input_grades(subject)\n",
    "        elif choice == '2':\n",
    "            subject = input(\"Enter the subject name: \")\n",
    "            view_grades(subject)\n",
    "        elif choice == '3':\n",
    "            print(\"Exiting the program. Goodbye!\")\n",
    "            break\n",
    "        else:\n",
    "            print(\"Invalid choice. Please select 1, 2, or 3.\")\n",
    "\n",
    "if __name__== \"__main__\":\n",
    "    main()"
   ]
  },
  {
   "cell_type": "code",
   "execution_count": 14,
   "id": "26871a94",
   "metadata": {},
   "outputs": [
    {
     "name": "stdout",
     "output_type": "stream",
     "text": [
      "Number of unique users: 126\n",
      "Most common action: 0\n"
     ]
    }
   ],
   "source": [
    "#4.LOG FILES\n",
    "from collections import Counter\n",
    "\n",
    "log_file_path =r'C:\\Users\\phani\\Desktop\\logfile.txt'\n",
    "\n",
    "# Initialize variables to store data\n",
    "unique_users = set()\n",
    "actions_counter = Counter()\n",
    "\n",
    "try:\n",
    "    with open(log_file_path, 'r') as log_file:\n",
    "        for line in log_file:\n",
    "            parts = line.strip().split(',')  # Assuming CSV format\n",
    "            \n",
    "            if len(parts) >= 3:\n",
    "                timestamp, user_id, action = parts[0], parts[1], parts[2]\n",
    "                \n",
    "                # Count unique users\n",
    "                unique_users.add(user_id)\n",
    "                \n",
    "                # Count actions\n",
    "                actions_counter[action] += 1\n",
    "\n",
    "    print(f\"Number of unique users: {len(unique_users)}\")\n",
    "    \n",
    "    # Find the most common action\n",
    "    most_common_action = actions_counter.most_common(1)\n",
    "    if most_common_action:\n",
    "        print(f\"Most common action: {most_common_action[0][0]}\")\n",
    "\n",
    "except FileNotFoundError:\n",
    "    print(f\"File not found: {log_file_path}\")\n",
    "except Exception as e:\n",
    "    print(f\"An error occurred: {str(e)}\")"
   ]
  },
  {
   "cell_type": "code",
   "execution_count": null,
   "id": "fb849771",
   "metadata": {},
   "outputs": [],
   "source": []
  }
 ],
 "metadata": {
  "kernelspec": {
   "display_name": "Python 3 (ipykernel)",
   "language": "python",
   "name": "python3"
  },
  "language_info": {
   "codemirror_mode": {
    "name": "ipython",
    "version": 3
   },
   "file_extension": ".py",
   "mimetype": "text/x-python",
   "name": "python",
   "nbconvert_exporter": "python",
   "pygments_lexer": "ipython3",
   "version": "3.11.4"
  }
 },
 "nbformat": 4,
 "nbformat_minor": 5
}
