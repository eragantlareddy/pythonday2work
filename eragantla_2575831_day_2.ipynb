{
 "cells": [
  {
   "cell_type": "code",
   "execution_count": 2,
   "id": "d550faa2",
   "metadata": {},
   "outputs": [
    {
     "name": "stdout",
     "output_type": "stream",
     "text": [
      "Enter the Starting of the range:10\n",
      "Enter the Ending of the range:20\n",
      "Original Number List: [10, 11, 12, 13, 14, 15, 16, 17, 18, 19]\n",
      "Even Numbers List: [10, 12, 14, 16, 18]\n",
      "Odd Numbers List: [11, 13, 15, 17, 19]\n"
     ]
    }
   ],
   "source": [
    "#1.PYTHON FUNCTION TO LIST ODD AND EVEN \n",
    "num_list=[]\n",
    "n=int(input(\"Enter the Starting of the range:\"))\n",
    "k=int(input(\"Enter the Ending of the range:\"))\n",
    "for i in range(n,k):\n",
    "  num_list.append(i)\n",
    "print(\"Original Number List:\", num_list)\n",
    "even_list=[]\n",
    "odd_list=[]\n",
    "for i in range(len(num_list)):\n",
    "  if(num_list[i]%2==0):\n",
    "    even_list.append(num_list[i])\n",
    "  else:\n",
    "    odd_list.append(num_list[i])\n",
    "print(\"Even Numbers List:\", even_list)\n",
    "print(\"Odd Numbers List:\", odd_list)"
   ]
  },
  {
   "cell_type": "code",
   "execution_count": 3,
   "id": "2cf7d17e",
   "metadata": {},
   "outputs": [
    {
     "name": "stdout",
     "output_type": "stream",
     "text": [
      "Enter integer 1: 19\n",
      "Enter integer 2: 6\n",
      "Enter integer 3: 9\n",
      "Enter integer 4: 20\n",
      "Enter integer 5: 13\n",
      "Enter integer 6: 7\n",
      "Enter integer 7: 6\n",
      "Enter integer 8: 1\n",
      "Count of even numbers: 3\n"
     ]
    }
   ],
   "source": [
    "#2.ENTERING 8 INTEGERS \n",
    "even_count = 0\n",
    "for i in range(8):\n",
    "    try:\n",
    "        user_input = int(input(f\"Enter integer {i + 1}: \"))\n",
    "        if user_input % 2 == 0:\n",
    "            even_count += 1\n",
    "    except ValueError:\n",
    "        print(\"Invalid input. Please enter an integer.\")\n",
    "print(f\"Count of even numbers: {even_count}\")"
   ]
  },
  {
   "cell_type": "code",
   "execution_count": 8,
   "id": "6732a13a",
   "metadata": {},
   "outputs": [
    {
     "name": "stdout",
     "output_type": "stream",
     "text": [
      "[10, 5.0, 16.0, 8.0, 4.0, 2.0, 1.0]\n",
      "[15, 46, 23.0, 70.0, 35.0, 106.0, 53.0, 160.0, 80.0, 40.0, 20.0, 10.0, 5.0, 16.0, 8.0, 4.0, 2.0, 1.0]\n"
     ]
    }
   ],
   "source": [
    "#3.Writing a program where you take any positive integers \n",
    "def collatz_sequence(x):\n",
    "    num_seq = [x]\n",
    "    if x < 1:\n",
    "       return []\n",
    "    while x > 1:\n",
    "       if x % 2 == 0:\n",
    "         x = x / 2\n",
    "       else:\n",
    "         x = 3 * x + 1\n",
    "       num_seq.append(x)    \n",
    "    return num_seq\n",
    "print(collatz_sequence(10))\n",
    "print(collatz_sequence(15))"
   ]
  },
  {
   "cell_type": "code",
   "execution_count": 12,
   "id": "1f96fd3e",
   "metadata": {},
   "outputs": [
    {
     "name": "stdout",
     "output_type": "stream",
     "text": [
      "57918\n"
     ]
    }
   ],
   "source": [
    "#4.python program to compute the sum of multiples of 3 or 5 \n",
    "n = 0\n",
    "for i in range(1,500):\n",
    "     if not i % 5 or not i % 3:\n",
    "         n = n + i\n",
    "print(n)"
   ]
  },
  {
   "cell_type": "code",
   "execution_count": 21,
   "id": "e8760593",
   "metadata": {},
   "outputs": [
    {
     "name": "stdout",
     "output_type": "stream",
     "text": [
      "10\n",
      "20\n",
      "The prime numbers in this range are:  [10, 11, 12, 13, 14, 15, 16, 17, 18, 19]\n"
     ]
    }
   ],
   "source": [
    "# 5.TO FIND n PRIME NUMBERS FROM THE LIST GIVEN NUMBERS \n",
    "def prime (x, y):\n",
    "    prime_list = []\n",
    "    for i in range(x, y):\n",
    "        if i == 0 or i == 1:\n",
    "            continue\n",
    "        else:\n",
    "            for j in range (2, int(1/2)+1):\n",
    "                if i % j == 0:\n",
    "                       break\n",
    "            else:\n",
    "                prime_list.append(i)\n",
    "    return prime_list\n",
    "start = int(input())\n",
    "end = int(input())\n",
    "list1 = prime (start, end)\n",
    "if len(list1) == 0:\n",
    "    print(\"There are no prime numbers in this range\")\n",
    "else:\n",
    "    print(\"The prime numbers in this range are: \", list1)"
   ]
  },
  {
   "cell_type": "code",
   "execution_count": 22,
   "id": "2d8959f8",
   "metadata": {},
   "outputs": [
    {
     "name": "stdout",
     "output_type": "stream",
     "text": [
      "[44, 29, 40]\n",
      "[106, 77, 97]\n",
      "[140, 99, 132]\n"
     ]
    }
   ],
   "source": [
    "# 6.COMPUTE MATRIX MULTIPLICATION \n",
    "\n",
    "A = [[1, 3, 3],\n",
    "     [5, 5, 6],\n",
    "     [7, 5, 9]]\n",
    "\n",
    "B = [[8, 8, 7],\n",
    "     [6, 5, 4],\n",
    "     [6, 2, 7]]\n",
    "C = [[0, 0, 0],\n",
    "     [0, 0, 0],\n",
    "     [0, 0, 0]]\n",
    "\n",
    "for i in range(len(A)):\n",
    "    for j in range(len(B[0])):\n",
    "        for k in range(len(B)):\n",
    "            C[i][j] += A[i][k] * B[k][j]\n",
    "for row in C:\n",
    "    print(row)"
   ]
  },
  {
   "cell_type": "code",
   "execution_count": 26,
   "id": "8e25910f",
   "metadata": {},
   "outputs": [
    {
     "name": "stdout",
     "output_type": "stream",
     "text": [
      "Enter String:MY PYTHON WORK DAY 2 \n",
      "Number of vowels are:\n",
      "3\n"
     ]
    }
   ],
   "source": [
    "#7.COUNT THE VOWELS IN STRING\n",
    "string=input(\"Enter String:\")\n",
    "vowels=0\n",
    "for i in string:\n",
    "      if(i=='a' or i=='e' or i=='i' or i=='o' or i=='u' or i=='A' or i=='E' or i=='I' or i=='O' or i=='U'):\n",
    "            vowels=vowels+1\n",
    "print(\"Number of vowels are:\")\n",
    "print(vowels)"
   ]
  },
  {
   "cell_type": "code",
   "execution_count": 29,
   "id": "6299a53a",
   "metadata": {},
   "outputs": [
    {
     "name": "stdout",
     "output_type": "stream",
     "text": [
      "The factorial of 15 is 1307674368000\n"
     ]
    }
   ],
   "source": [
    "#8.FINDING FACTORIAL FOR GIVEN NUMBER \n",
    "def factorial_recursive(n):\n",
    "    if n == 0:\n",
    "        return 1\n",
    "    else:\n",
    "        return n * factorial_recursive(n - 1)\n",
    "number = 15\n",
    "result = factorial_recursive(number)\n",
    "print(f\"The factorial of {number} is {result}\")"
   ]
  },
  {
   "cell_type": "code",
   "execution_count": 31,
   "id": "2e8fdbcb",
   "metadata": {},
   "outputs": [
    {
     "name": "stdout",
     "output_type": "stream",
     "text": [
      "The Fibonacci series with 29 terms is: [0, 1, 1, 2, 3, 5, 8, 13, 21, 34, 55, 89, 144, 233, 377, 610, 987, 1597, 2584, 4181, 6765, 10946, 17711, 28657, 46368, 75025, 121393, 196418, 317811]\n"
     ]
    }
   ],
   "source": [
    "#9.GENERATING FIBONACCI SERIES \n",
    "def generate_fibonacci_recursive(n):\n",
    "    if n <= 0:\n",
    "        return []\n",
    "    elif n == 1:\n",
    "        return [0]\n",
    "    elif n == 2:\n",
    "        return [0, 1]\n",
    "    else:\n",
    "        fibonacci_series = generate_fibonacci_recursive(n - 1)\n",
    "        next_term = fibonacci_series[-1] + fibonacci_series[-2]\n",
    "        fibonacci_series.append(next_term)\n",
    "        return fibonacci_series\n",
    "num_terms = 29\n",
    "fibonacci_series = generate_fibonacci_recursive(num_terms)\n",
    "print(f\"The Fibonacci series with {num_terms} terms is: {fibonacci_series}\")"
   ]
  },
  {
   "cell_type": "code",
   "execution_count": 32,
   "id": "f36b5724",
   "metadata": {},
   "outputs": [
    {
     "name": "stdout",
     "output_type": "stream",
     "text": [
      "Reversed Number: 828739821\n"
     ]
    }
   ],
   "source": [
    "#10.TO DISPLAY THE GIVEN INTEGER IN REVERSE ORDER USING FUNCTION \n",
    "num = 128937828\n",
    "reversed_num = 0\n",
    "while num != 0:\n",
    "    digit = num % 10\n",
    "    reversed_num = reversed_num * 10 + digit\n",
    "    num //= 10\n",
    "print(\"Reversed Number: \" + str(reversed_num))"
   ]
  },
  {
   "cell_type": "code",
   "execution_count": 34,
   "id": "53a6d6dd",
   "metadata": {},
   "outputs": [
    {
     "name": "stdout",
     "output_type": "stream",
     "text": [
      "All Integers Within The Range 200-300 Whose Sum Of Digits Is An Even Number is = ['200', '202', '204', '206', '208', '211', '213', '215', '217', '219', '220', '222', '224', '226', '228', '231', '233', '235', '237', '239', '240', '242', '244', '246', '248', '251', '253', '255', '257', '259', '260', '262', '264', '266', '268', '271', '273', '275', '277', '279', '280', '282', '284', '286', '288', '291', '293', '295', '297', '299']\n"
     ]
    }
   ],
   "source": [
    "#11.PYTHON TO DISPLAY ALL INTEGERS WITH IN RANGE 200-300 WHOSE SUM OF DIGITS IS EVEN NUMBER\n",
    "list=[]                  \n",
    "for i in range(200,301):  \n",
    "    i=str(i)             \n",
    "    sum=0                 \n",
    "    for j in i:           \n",
    "        j=int(j)        \n",
    "        sum=sum+j         \n",
    "    if sum%2==0:          \n",
    "        list.append(i)    \n",
    "print('All Integers Within The Range 200-300 Whose Sum Of Digits Is An Even Number is =',list)"
   ]
  },
  {
   "cell_type": "code",
   "execution_count": 36,
   "id": "8ce15d6f",
   "metadata": {},
   "outputs": [
    {
     "name": "stdout",
     "output_type": "stream",
     "text": [
      "Number of digits: 5\n",
      "Sum of digits: 14\n"
     ]
    }
   ],
   "source": [
    "#12.TO FIND THE NUMBER OF DIGITS AND SUM OF DIGITS FOR GIVEN INTEGER \n",
    "def count_digits_and_sum(number):\n",
    "    num_digits = 0\n",
    "    digit_sum = 0\n",
    "    number = abs(number)\n",
    "    while number > 0:\n",
    "        digit = number % 10\n",
    "        num_digits += 1\n",
    "        digit_sum += digit\n",
    "        number //= 10\n",
    "    return num_digits, digit_sum\n",
    "number = 23432\n",
    "num_digits, digit_sum = count_digits_and_sum(number)\n",
    "print(f\"Number of digits: {num_digits}\")\n",
    "print(f\"Sum of digits: {digit_sum}\")"
   ]
  },
  {
   "cell_type": "code",
   "execution_count": 39,
   "id": "8394d20b",
   "metadata": {},
   "outputs": [
    {
     "name": "stdout",
     "output_type": "stream",
     "text": [
      "True\n",
      "False\n"
     ]
    }
   ],
   "source": [
    "#13.SORTED & DUPLICATE \n",
    "def is_sorted(arr):\n",
    "    return all(arr[i] <= arr[i + 1] for i in range(len(arr) - 1))\n",
    "\n",
    "def has_duplicates(arr):\n",
    "    seen = set()\n",
    "    for item in arr:\n",
    "        if item in seen:\n",
    "            return True\n",
    "        seen.add(item)\n",
    "    return False\n",
    "my_list = [1, 2, 3, 4, 5]\n",
    "print(is_sorted(my_list))      \n",
    "print(has_duplicates(my_list))"
   ]
  },
  {
   "cell_type": "code",
   "execution_count": 2,
   "id": "33d4d1b1",
   "metadata": {},
   "outputs": [
    {
     "name": "stdout",
     "output_type": "stream",
     "text": [
      "28\n",
      "[10, 30, 60, 100, 150]\n"
     ]
    }
   ],
   "source": [
    "#14.NESTED SUM \n",
    "def sum_nestedlist( l ):\n",
    "    total = 0\n",
    "     \n",
    "    for j in range(len(l)):\n",
    "       \n",
    "        if type(l[j]) == list :\n",
    "            total+= sum_nestedlist(l[j])\n",
    "        else:\n",
    "            total += l[j]  \n",
    "             \n",
    "    return total\n",
    "             \n",
    "print(sum_nestedlist([[1,2,3],[4,[5,6]],7]))\n",
    "\n",
    "def Cumulative(lists):\n",
    "    cu_list = []\n",
    "    length = len(lists)\n",
    "    cu_list = [sum(lists[0:x:1]) for x in range(0, length+1)]\n",
    "    return cu_list[1:]\n",
    "\n",
    "lists = [10, 20, 30, 40, 50]\n",
    "print (Cumulative(lists))"
   ]
  },
  {
   "cell_type": "code",
   "execution_count": null,
   "id": "9b0f71e7",
   "metadata": {},
   "outputs": [],
   "source": []
  }
 ],
 "metadata": {
  "kernelspec": {
   "display_name": "Python 3 (ipykernel)",
   "language": "python",
   "name": "python3"
  },
  "language_info": {
   "codemirror_mode": {
    "name": "ipython",
    "version": 3
   },
   "file_extension": ".py",
   "mimetype": "text/x-python",
   "name": "python",
   "nbconvert_exporter": "python",
   "pygments_lexer": "ipython3",
   "version": "3.11.4"
  }
 },
 "nbformat": 4,
 "nbformat_minor": 5
}
